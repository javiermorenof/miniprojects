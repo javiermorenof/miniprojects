{
 "cells": [
  {
   "cell_type": "markdown",
   "id": "5c3b7fd5",
   "metadata": {},
   "source": [
    "## Merging PDFs"
   ]
  },
  {
   "cell_type": "code",
   "execution_count": null,
   "id": "32b7eb6d",
   "metadata": {},
   "outputs": [],
   "source": [
    "#!pip install pypdf2"
   ]
  },
  {
   "cell_type": "code",
   "execution_count": null,
   "id": "2957c42b",
   "metadata": {},
   "outputs": [],
   "source": [
    "# Loading libraries\n",
    "import os\n",
    "from PyPDF2 import PdfFileMerger\n",
    "\n",
    "# Changing to the relevalt path\n",
    "path = r'C:\\Users\\javiermorenof\\Documents\\MEGA\\Grado Ciencia Datos\\1B - Probabilidad y estadistica\\3.Inferencia Estadistica I - Estimacion e Intervalos de confianza'\n",
    "\n",
    "# Moving to the right path\n",
    "os.chdir(path)\n",
    "\n",
    "# Checking that the path is correct\n",
    "print(f'Current path: \\n\\n\\t {os.getcwd()}')\n",
    "\n",
    "# Getting all the pdf's in this folder\n",
    "lista = []\n",
    "with os.scandir(path) as dir_list:\n",
    "    for entry in dir_list:\n",
    "        if entry.is_file() and entry.name.endswith('.pdf'):\n",
    "            lista.append(entry.name)\n",
    "\n",
    "# Making a function to merge\n",
    "def merge_pdfs(pdfs:list, output_name:str):\n",
    "    \n",
    "    merger = PdfFileMerger()\n",
    "    \n",
    "    for pdf in pdfs:\n",
    "        merger.append(open(pdf, 'rb'))\n",
    "    \n",
    "    with open(output_name, 'wb') as output:\n",
    "        merger.write(output)\n",
    "    \n",
    "    print('PDFs merged succesfully!')"
   ]
  },
  {
   "cell_type": "code",
   "execution_count": null,
   "id": "1ef84ba3",
   "metadata": {},
   "outputs": [],
   "source": [
    "# Merging PDFs\n",
    "merge_pdfs(lista, 'Test.pdf')"
   ]
  }
 ],
 "metadata": {
  "kernelspec": {
   "display_name": "Python 3",
   "language": "python",
   "name": "python3"
  },
  "language_info": {
   "codemirror_mode": {
    "name": "ipython",
    "version": 3
   },
   "file_extension": ".py",
   "mimetype": "text/x-python",
   "name": "python",
   "nbconvert_exporter": "python",
   "pygments_lexer": "ipython3",
   "version": "3.8.8"
  }
 },
 "nbformat": 4,
 "nbformat_minor": 5
}
