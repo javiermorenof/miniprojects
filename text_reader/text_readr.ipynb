{
 "cells": [
  {
   "cell_type": "code",
   "execution_count": 1,
   "metadata": {},
   "outputs": [],
   "source": [
    "import os\n",
    "import pyttsx3\n",
    "import PyPDF4\n",
    "from configparser import ConfigParser\n",
    "from config import *"
   ]
  },
  {
   "cell_type": "code",
   "execution_count": 2,
   "metadata": {},
   "outputs": [],
   "source": [
    "#Creando función para la lectura de texto\n",
    "def speech_starter(text, save=False, filename=False):\n",
    "    \n",
    "    #Opciones por defecto\n",
    "    rate = 160\n",
    "    voice = 'spanish'\n",
    "    volume = 1    \n",
    "    \n",
    "    #Inicializando el motor de audio\n",
    "    engine = pyttsx3.init()\n",
    "    engine.setProperty('rate', rate)\n",
    "    engine.setProperty('voice', voice)\n",
    "    engine.setProperty('volume', volume)\n",
    "    print(f\"Opciones por defecto: Velocidad:{rate}, Idioma:{voice}, Volumen:{volume}\")\n",
    "    \n",
    "    #Reproducción de audio\n",
    "    engine.say(text)\n",
    "    \n",
    "    #Grabación de audio\n",
    "    if save == True:\n",
    "        engine.save_to_file(text, f'{filename}.mp3')\n",
    "    else:\n",
    "        pass\n",
    "    engine.runAndWait()\n",
    "\n",
    "\n",
    "#Creando un reader del texto en PDF\n",
    "def text_reader(file, start_page=1, end_page=False):\n",
    "    book = open(file, 'rb')\n",
    "    reader = PyPDF4.PdfFileReader(book)\n",
    "    numpages = reader.numPages\n",
    "    print(f'Este documento tiene {numpages} páginas')\n",
    "    text = \"\"\n",
    "    if end_page == False:\n",
    "        for k in range(start_page,numpages):\n",
    "            page = reader.getPage(k)\n",
    "            text_inpage = page.extractText()\n",
    "            text += text_inpage\n",
    "    else:\n",
    "        for k in range(start_page,end_page):\n",
    "            page = reader.getPage(k)\n",
    "            text_inpage = page.extractText()\n",
    "            text += text_inpage           \n",
    "    return text\n",
    "\n",
    "def text_cleaner(text):\n",
    "    text = text.replace('-\\n','')\n",
    "    text = text.replace('\\nŠ','')\n",
    "    text = text.replace('\\n',' ')\n",
    "    return text"
   ]
  },
  {
   "cell_type": "code",
   "execution_count": null,
   "metadata": {},
   "outputs": [
    {
     "name": "stdout",
     "output_type": "stream",
     "text": [
      "Este documento tiene 17 páginas\n",
      "Opciones por defecto: Velocidad:160, Idioma:spanish, Volumen:1\n"
     ]
    }
   ],
   "source": [
    "if __name__ == '__main__':\n",
    "\n",
    "        try:\n",
    "            save =  bool(save)\n",
    "        except:\n",
    "            print(\"No se ha indicado correctamente si se debe guardar o no el audio en formato mp3. Configura el archivo config.py indicando True or False en el campo 'Save'\")\n",
    "            \n",
    "        try:\n",
    "            start_page = int(start_page)\n",
    "        except:\n",
    "            print(\"Start_page no es un número en el documento 'config.py'.\")\n",
    "           \n",
    "        try:\n",
    "            end_page = bool(end_page)\n",
    "        except:\n",
    "            print(\"End_page no es True o False en el documento 'config.py'. Modifícalo a uno d eestos parámetros.\")\n",
    "            \n",
    "       \n",
    "        if origin_file not in os.listdir():\n",
    "            print(\"El PDF no se encuentra en esta carpeta. Por favor, indica un documento válido existente\")\n",
    "        else:\n",
    "            text = text_reader(origin_file, start_page, end_page)\n",
    "            text = text_cleaner(text)\n",
    "            speech_starter(text, save=save, filename=filename)   "
   ]
  }
 ],
 "metadata": {
  "kernelspec": {
   "display_name": "Python 3",
   "language": "python",
   "name": "python3"
  },
  "language_info": {
   "codemirror_mode": {
    "name": "ipython",
    "version": 3
   },
   "file_extension": ".py",
   "mimetype": "text/x-python",
   "name": "python",
   "nbconvert_exporter": "python",
   "pygments_lexer": "ipython3",
   "version": "3.8.5"
  }
 },
 "nbformat": 4,
 "nbformat_minor": 4
}
